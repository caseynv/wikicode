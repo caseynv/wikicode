{
 "cells": [
  {
   "cell_type": "code",
   "execution_count": 23,
   "id": "551b2700-8e81-4566-8e91-d8034561bf86",
   "metadata": {},
   "outputs": [],
   "source": [
    "# Connect to enwiki\n",
    "enwiki = pywikibot.Site('en', 'wikipedia')\n",
    "\n",
    "# and then to wikidata\n",
    "enwiki_repo = enwiki.data_repository()\n",
    "\n",
    "#login to your wikidata page\n",
    "pywikibot.Site().login()\n",
    "\n",
    "#import all the needed packages\n",
    "import pywikibot\n",
    "from bs4 import BeautifulSoup\n",
    "import urllib.request"
   ]
  },
  {
   "cell_type": "code",
   "execution_count": null,
   "id": "e1cb1269-3a8f-40f5-af9f-04eb88cc2924",
   "metadata": {},
   "outputs": [],
   "source": [
    "def print_authorname(list_item):\n",
    "    t = []\n",
    "    site = pywikibot.Site(\"wikidata\", \"wikidata\")\n",
    "    repo = site.data_repository()\n",
    "    for data_item in list_item:\n",
    "        item = pywikibot.ItemPage(repo, data_item) \n",
    "        item_dict = item.get()\n",
    "    \n",
    "        for claim in item_dict['claims']: # Loop through items\n",
    "        \n",
    "            if claim == 'P50':\n",
    "                for source in item.claims[claim]:\n",
    "                    QID = source.target.getID()\n",
    "                \n",
    "                    item1 = pywikibot.ItemPage(repo, QID) \n",
    "                    item_dict1 = item1.get()\n",
    "                    try:\n",
    "                        item_new = item_dict1['claims']['P735']\n",
    "                        for item1_new in item_new:\n",
    "                            itemm = item1_new.target.getID()\n",
    "                            QID1 = pywikibot.ItemPage(repo, itemm) \n",
    "                            name = QID1.get()\n",
    "                            print('Given name: ' + name['labels']['en'])\n",
    "                    except:\n",
    "                        print('No Given name')\n",
    "                    try:\n",
    "                        item_new1 = item_dict1['claims']['P734']\n",
    "                        for item1_new1 in item_new1:\n",
    "                            itemm1 = item1_new1.target.getID()\n",
    "                            QID2 = pywikibot.ItemPage(repo, itemm1) \n",
    "                            name1 = QID2.get()\n",
    "                            print('Family name: ' + name1['labels']['en'])\n",
    "                    except:\n",
    "                        print('No Family name')\n",
    "            if claim == 'P2093':\n",
    "                try:\n",
    "                    for source in item.claims[claim]:\n",
    "                        QID = source.target\n",
    "                        \n",
    "                        t.append(QID)\n",
    "                        \n",
    "                except:\n",
    "                    print('Name')\n",
    "    print(t)              \n",
    "print_authorname(['Q56603084'])"
   ]
  },
  {
   "cell_type": "code",
   "execution_count": null,
   "id": "65c1ce92-25e8-4d60-adde-c147cd7addb7",
   "metadata": {},
   "outputs": [],
   "source": [
    "\n",
    "def author_citation(url):\n",
    "    list1 = []\n",
    "    with urllib.request.urlopen(url) as response:\n",
    "        html = response.read()\n",
    "        soup = BeautifulSoup(html, \"html.parser\")\n",
    "        text3 = soup.findAll(attrs={'property' : re.compile('article:author')})\n",
    "        for text in text3:\n",
    "            tip = text['content']\n",
    "            list1.append(tip)\n",
    "    print(list1)\n",
    "\n",
    "author_citation('https://ui.adsabs.harvard.edu/abs/2018ApJ...852...97H/exportcitation')"
   ]
  },
  {
   "cell_type": "code",
   "execution_count": null,
   "id": "cf67e5b5-4091-44e3-8a3d-e07510c3fcac",
   "metadata": {},
   "outputs": [],
   "source": [
    "def match_authors():\n",
    "    print_authorname(['Q56603084'])\n",
    "    author_citation('https://ui.adsabs.harvard.edu/abs/2018ApJ...852...97H/exportcitation') \n",
    "    \n",
    "match_authors()"
   ]
  }
 ],
 "metadata": {
  "kernelspec": {
   "display_name": "Python 3 (ipykernel)",
   "language": "python",
   "name": "python3"
  },
  "language_info": {
   "codemirror_mode": {
    "name": "ipython",
    "version": 3
   },
   "file_extension": ".py",
   "mimetype": "text/x-python",
   "name": "python",
   "nbconvert_exporter": "python",
   "pygments_lexer": "ipython3",
   "version": "3.8.10"
  }
 },
 "nbformat": 4,
 "nbformat_minor": 5
}
