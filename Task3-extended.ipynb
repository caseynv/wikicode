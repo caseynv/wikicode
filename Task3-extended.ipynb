{
 "cells": [
  {
   "cell_type": "code",
   "execution_count": 2,
   "id": "7b64668c-7b29-42fa-9292-eac84d8ccc9b",
   "metadata": {},
   "outputs": [],
   "source": [
    "import pywikibot\n",
    "from bs4 import BeautifulSoup\n",
    "import urllib.request\n",
    "import re\n",
    "# Connect to enwiki\n",
    "enwiki = pywikibot.Site('en', 'wikipedia')\n",
    "# and then to wikidata\n",
    "enwiki_repo = enwiki.data_repository()"
   ]
  },
  {
   "cell_type": "code",
   "execution_count": null,
   "id": "bf278fdd-6579-43ba-9a40-1adac1a8092c",
   "metadata": {},
   "outputs": [],
   "source": [
    "#%%\n",
    "#This can only be applicable for articles of a particular subject\n",
    "\n",
    "def useurl(list_item):\n",
    "    site = pywikibot.Site(\"wikidata\", \"wikidata\")\n",
    "    repo = site.data_repository()\n",
    "    for data_item in list_item:\n",
    "        item = pywikibot.ItemPage(repo, data_item) \n",
    "        \n",
    "        for url in item.claims:\n",
    "            if 'P819' in url:\n",
    "                source = item.claims[url]\n",
    "                ads = source[0].target\n",
    "                url = 'https://ui.adsabs.harvard.edu/abs/' + ads + '/exportcitation'\n",
    "                return url\n",
    "                return 1\n",
    "        \n",
    "            elif 'P818' in url:\n",
    "                source1 = item.claims[url]\n",
    "                ars = source1[0].target\n",
    "                url = 'https://arxiv.org/abs/' + ars \n",
    "                return url\n",
    "            \n",
    "            elif 'P356' in url:\n",
    "                source1 = item.claims[url]\n",
    "                ars = source1[0].target\n",
    "                url = '' #this is dependent on the topic, the parts of the url is needed \n",
    "                return url\n",
    "            \n",
    "            else:\n",
    "                continue\n",
    "        \n",
    "useurl(['Q97932961'])"
   ]
  },
  {
   "cell_type": "code",
   "execution_count": null,
   "id": "ddc01108-925a-437d-b852-e70f9ea61678",
   "metadata": {},
   "outputs": [],
   "source": []
  }
 ],
 "metadata": {
  "kernelspec": {
   "display_name": "Python 3 (ipykernel)",
   "language": "python",
   "name": "python3"
  },
  "language_info": {
   "codemirror_mode": {
    "name": "ipython",
    "version": 3
   },
   "file_extension": ".py",
   "mimetype": "text/x-python",
   "name": "python",
   "nbconvert_exporter": "python",
   "pygments_lexer": "ipython3",
   "version": "3.8.10"
  }
 },
 "nbformat": 4,
 "nbformat_minor": 5
}
