{
 "cells": [
  {
   "cell_type": "code",
   "execution_count": 5,
   "id": "289d93b9",
   "metadata": {},
   "outputs": [],
   "source": [
    "#import all the needed packages\n",
    "import pywikibot\n",
    "import datetime\n",
    "import math\n",
    "import re\n",
    "from datetime import date\n",
    "\n",
    "# Connect to enwiki\n",
    "enwiki = pywikibot.Site('en', 'wikipedia')\n",
    "\n",
    "# and then to wikidata\n",
    "enwiki_repo = enwiki.data_repository()\n",
    "\n",
    "#login to your wikidata page\n",
    "pywikibot.Site().login()\n"
   ]
  },
  {
   "cell_type": "code",
   "execution_count": 82,
   "id": "ed478e4c",
   "metadata": {},
   "outputs": [
    {
     "name": "stderr",
     "output_type": "stream",
     "text": [
      "WARNING: API error badtoken: Invalid CSRF token.\n",
      "Sleeping for 9.8 seconds, 2022-04-12 20:17:50\n"
     ]
    },
    {
     "name": "stdout",
     "output_type": "stream",
     "text": [
      "Welldone. One claim created!\n"
     ]
    }
   ],
   "source": [
    "#add new claim depending on the type of property to a new statement\n",
    "#find the datatype of properties here: https://www.wikidata.org/wiki/Special:ListProperties/\n",
    "\n",
    "def add_statement(data_item, data, data_type, value):\n",
    "    site = pywikibot.Site(\"wikidata\", \"wikidata\")\n",
    "    repo = site.data_repository()\n",
    "    item = pywikibot.ItemPage(repo, data_item)\n",
    "\n",
    "    #CLAIM\n",
    "    if data_type == 'item':\n",
    "        try:\n",
    "            itemclaim = pywikibot.Claim(repo, data)\n",
    "            iclaim = pywikibot.ItemPage(site, value)\n",
    "            itemclaim.setTarget(iclaim) #Set the target value in the local object.\n",
    "\n",
    "            item.addClaim(itemclaim, summary=u'Adding claim') #Inserting value with summary to Q210194\"\"\"\n",
    "            print('Welldone. One claim created!')\n",
    "        except:\n",
    "            print('Oops! Check the property data type')\n",
    "            \n",
    "    elif data_type == 'string':\n",
    "        #string can be url, external-id, musical-notation and mathematical expression\n",
    "        try:\n",
    "            itemclaim = pywikibot.Claim(repo, data)\n",
    "            itemclaim.setTarget(value) #Set the target value in the local object.\n",
    "\n",
    "            item.addClaim(itemclaim, summary=u'Adding claim') \n",
    "            print('Welldone. One claim created!')\n",
    "        except:\n",
    "            print('Oops! Check the property data type')\n",
    "\n",
    "    elif data_type == 'mono-text':\n",
    "        #mtexdata = P1448, P1813\n",
    "        try:\n",
    "            monoclaim = pywikibot.Claim(repo, data)\n",
    "            targetmono = pywikibot.WbMonolingualText(value, 'en')\n",
    "            monoclaim.setTarget(targetmono)\n",
    "            \n",
    "            item.addClaim(monoclaim, summary=u'Adding monolingualtext claim')\n",
    "            print('Welldone. One claim created!')\n",
    "        except:\n",
    "            print('Oops! Check the property data type')\n",
    "\n",
    "    elif data_type == 'point-in-time':\n",
    "        #timedata = P569, P570\n",
    "        try:\n",
    "            timeclaim = pywikibot.Claim(repo, data)\n",
    "            targetime = pywikibot.WbTime(year=2021, month=11, day=8)\n",
    "            timeclaim.setTarget(targetime)\n",
    "            item.addClaim(timeclaim, summary=u'Adding a time claim')\n",
    "            print('Welldone. One claim created!')\n",
    "        except:\n",
    "            print('Oops! Check the property data type')\n",
    "\n",
    "    elif data_type == 'coordinates':\n",
    "        #coordata = P625, P1332\n",
    "        try:\n",
    "            coordclaim = pywikibot.Claim(repo, data)\n",
    "            coord = pywikibot.Coordinate(lat=52.25, lon=0.1225, precision=0.001, site=site)\n",
    "            coordclaim.setTarget(coord)\n",
    "            item.addClaim(coordclaim, summary=u'Adding coordinate claim')\n",
    "\n",
    "            print('Welldone. One claim created!')\n",
    "        except:\n",
    "            print('Oops! Check the property data type')\n",
    "\n",
    "    elif data_type == 'quantity':\n",
    "        #qdata = P1087, P1117\n",
    "        try:\n",
    "            quantclaim = pywikibot.Claim(repo, data)\n",
    "            quant = pywikibot.WbQuantity(amount, unit)\n",
    "            coordclaim.setTarget(quant)\n",
    "\n",
    "            item.addClaim(quantclaim, summary=u'Adding quantity claim')\n",
    "\n",
    "            print('Welldone. One claim created!')\n",
    "        except:\n",
    "            print('Oops! Check the property data type')\n",
    "\n",
    "    elif data_type == 'geo-shape':\n",
    "        #geo-data = P3896, P8485\n",
    "        try:\n",
    "            geoclaim = pywikibot.Claim(repo, data)\n",
    "            geo = pywikibot.WbGeoShape(value,'en')\n",
    "            geoclaim.setTarget(geo)\n",
    "\n",
    "            item.addClaim(geoclaim, summary=u'Adding geo-shape claim')\n",
    "            print('Welldone. One claim created!')\n",
    "        except:\n",
    "            print('Oops! Check the property data type')\n",
    "\n",
    "    elif data_type == 'commonsMedia':\n",
    "        #comdata = P14, P94\n",
    "        try:\n",
    "            comsite = pywikibot.Site('commons', 'commons')\n",
    "            repo1 = comsite.data_repository()\n",
    "            image = pywikibot.FilePage(comsite, value)\n",
    "            \n",
    "            stringclaim = pywikibot.Claim(repo1, data)\n",
    "            stringclaim.setTarget(image)\n",
    "            item.addClaim(stringclaim, summary=u'Adding one claim')\n",
    "            print('Welldone. One claim created!')\n",
    "        except:\n",
    "            print('Oops! Check the property data type')\n",
    "\n",
    "    elif data_type == 'tab-data':\n",
    "        #tab-data = P4150, P8204\n",
    "        try:\n",
    "            tabclaim = pywikibot.Claim(repo, data)\n",
    "            tab = pywikibot.WbTabularData(value,'en')\n",
    "            tabclaim.setTarget(tab)\n",
    "\n",
    "            item.addClaim(tabclaim, summary=u'Adding tabular-data claim')\n",
    "            print('Welldone. One claim created!')\n",
    "        except:\n",
    "            print('Oops! Check the property data type')\n",
    "\n",
    "    elif data_type == 'property':\n",
    "        try:\n",
    "            propclaim = pywikibot.Claim(repo, data)\n",
    "            propp = pywikibot.PropertyPage(site, value)\n",
    "            propclaim.setTarget(propp)\n",
    "\n",
    "            item.addClaim(propclaim, summary=u'Adding tabular-data claim')\n",
    "            print('Welldone. One claim created!')\n",
    "        except:\n",
    "            print('Oops! Check the property data type')\n",
    "    else:\n",
    "        try:\n",
    "            unclaim = pywikibot.Claim(repo, data)\n",
    "            tab = pywikibot.WbUnknown('TRUSTEE','en') #this ensures the code doesn't break\n",
    "            tabclaim.setTarget(tab)\n",
    "\n",
    "            item.addClaim(tabclaim, summary=u'Adding tabular-data claim')\n",
    "            print('Welldone. One claim created!')\n",
    "\n",
    "        except:\n",
    "            print('Oops! Check the property data type')\n",
    "\n",
    "\n",
    "add_statement(\"Q4115189\", 'P10', 'commonsMedia', 'File:Komodo_dragons_video.ogv')\n"
   ]
  },
  {
   "cell_type": "code",
   "execution_count": 5,
   "id": "2c2a8118",
   "metadata": {},
   "outputs": [
    {
     "name": "stdout",
     "output_type": "stream",
     "text": [
      "Just created a new qualifier!\n"
     ]
    },
    {
     "name": "stderr",
     "output_type": "stream",
     "text": [
      "Sleeping for 9.6 seconds, 2022-04-09 06:28:53\n"
     ]
    },
    {
     "name": "stdout",
     "output_type": "stream",
     "text": [
      "Just created a new qualifier!\n"
     ]
    }
   ],
   "source": [
    "#Adding a qualifier to existing claims/statements\n",
    "\n",
    "\n",
    "def add_qualifier(p_item, props, target):\n",
    "    site = pywikibot.Site(\"wikidata\", \"wikidata\")\n",
    "    repo = site.data_repository()\n",
    "    item = pywikibot.ItemPage(repo, \"Q4115189\")\n",
    "    item_dict = item.get() #Fetch all page data, and cache it.\n",
    "     \n",
    "    for claim in item_dict['claims'][props]: \n",
    "        if p_item not in claim.qualifiers: #If not already exist\n",
    "            qualifier = pywikibot.Claim(repo, p_item)\n",
    "            qualifier.setTarget(target)\n",
    "\n",
    "            claim.addQualifier(qualifier, summary=u'Adding a qualifier.') \n",
    "            print('Just created a new qualifier!')\n",
    "        else:\n",
    "            print('Try again')\n",
    "            \n",
    "add_qualifier('P223', 'P31', 'creative')"
   ]
  },
  {
   "cell_type": "code",
   "execution_count": 6,
   "id": "bfd05b1e",
   "metadata": {},
   "outputs": [
    {
     "name": "stdout",
     "output_type": "stream",
     "text": [
      "New Claim!\n"
     ]
    },
    {
     "name": "stderr",
     "output_type": "stream",
     "text": [
      "Sleeping for 9.5 seconds, 2022-04-09 06:29:54\n"
     ]
    },
    {
     "name": "stdout",
     "output_type": "stream",
     "text": [
      "New Qualifier!\n"
     ]
    }
   ],
   "source": [
    "#Adding a qualifier to newly-created claim/statement that is creating a claim and a qualifier for that claim at the same time\n",
    "\n",
    "\n",
    "def add_qualifer_and_claim(new_claim, prop, value):\n",
    "    site = pywikibot.Site(\"wikidata\", \"wikidata\")\n",
    "    repo = site.data_repository()\n",
    "    item = pywikibot.ItemPage(repo, new_claim)\n",
    "\n",
    "#CLAIM\n",
    "    claim = pywikibot.Claim(repo, prop) \n",
    "    target = pywikibot.ItemPage(repo, value) \n",
    "    claim.setTarget(target) #Set the target value in the local object.\n",
    "    item.addClaim(claim, summary=u'Adding claim') \n",
    "    print('New Claim!')\n",
    "\n",
    "#QUALIFIER\n",
    "    qualifier = pywikibot.Claim(repo, u'P101')\n",
    "    target = pywikibot.ItemPage(repo, u\"Q35409\")\n",
    "    qualifier.setTarget(target)\n",
    "\n",
    "    claim.addQualifier(qualifier, summary=u'Adding a qualifier.')\n",
    "    print('New Qualifier!')\n",
    "\n",
    "add_qualifer_and_claim(\"Q4115189\", 'P31', \"Q4546\")"
   ]
  },
  {
   "cell_type": "code",
   "execution_count": null,
   "id": "1a1457ba-834b-4e61-a6de-dbf709c86920",
   "metadata": {},
   "outputs": [
    {
     "name": "stdout",
     "output_type": "stream",
     "text": [
      "New Claim created!\n"
     ]
    },
    {
     "name": "stderr",
     "output_type": "stream",
     "text": [
      "Sleeping for 9.6 seconds, 2022-04-03 11:07:23\n"
     ]
    },
    {
     "name": "stdout",
     "output_type": "stream",
     "text": [
      "New sources created!\n"
     ]
    }
   ],
   "source": [
    "#Adding sources to newly-created claim/statement that is creating a claim and a source for that claim at the same time\n",
    "\n",
    "\n",
    "def add_sources_and_claim(data_item, prop, prop_value, ref1, ref1_value):\n",
    "    site = pywikibot.Site(\"wikidata\", \"wikidata\")\n",
    "    repo = site.data_repository()\n",
    "    item = pywikibot.ItemPage(repo, data_item)\n",
    "\n",
    "    #CLAIM\n",
    "    claim = pywikibot.Claim(repo, prop) \n",
    "    target = pywikibot.ItemPage(repo, prop_value) \n",
    "    claim.setTarget(target) \n",
    "    item.addClaim(claim, summary=u'Adding claim to Q210194') #\n",
    "    print('New Claim created!')\n",
    "\n",
    "    #ADDING TWO REFERENCES\n",
    "    #FIRST REF.\n",
    "    ref = pywikibot.Claim(repo, ref1) \n",
    "    ref.setTarget(pywikibot.ItemPage(repo, ref1_value)) \n",
    "\n",
    "    #SECOND REF.\n",
    "    today = date.today() #Date today\n",
    "    retrieved = pywikibot.Claim(repo, u'P813') #retrieved (P813). Data type: Point in time\n",
    "    dateCre = pywikibot.WbTime(year=int(today.strftime(\"%Y\")), month=int(today.strftime(\"%m\")), day=int(today.strftime(\"%d\"))) #retrieved -> %DATE TODAY%. Example retrieved -> 09.04.2022\n",
    "    retrieved.setTarget(dateCre) #Inserting value\n",
    "\n",
    "    claim.addSources([ref, retrieved], summary=u'Adding sources to administrative territorial entity (P131).')\n",
    "    print('New sources created!')\n",
    "    \n",
    "add_sources_and_claim(\"Q4115189\", 'P131', \"Q4546\", 'P19', 'Q648625')"
   ]
  },
  {
   "cell_type": "code",
   "execution_count": null,
   "id": "3c43cb36-8467-4516-96e9-67b9f38970b6",
   "metadata": {},
   "outputs": [
    {
     "name": "stdout",
     "output_type": "stream",
     "text": [
      "Source added!\n"
     ]
    },
    {
     "name": "stderr",
     "output_type": "stream",
     "text": [
      "Sleeping for 9.6 seconds, 2022-04-03 19:37:27\n"
     ]
    },
    {
     "name": "stdout",
     "output_type": "stream",
     "text": [
      "Source added!\n"
     ]
    }
   ],
   "source": [
    "#This function adds a source to an existing statement/claim.\n",
    "\n",
    "\n",
    "def add_source(data_item, prop):\n",
    "    site = pywikibot.Site(\"wikidata\", \"wikidata\")\n",
    "    repo = site.data_repository()\n",
    "    item = pywikibot.ItemPage(repo, data_item) \n",
    "    item_dict = item.get()\n",
    "\n",
    "    for claim in item_dict['claims'][prop]: # Loop through items\n",
    "        #ADD A REF.\n",
    "        today = date.today() #Date today\n",
    "        retrieved = pywikibot.Claim(repo, u'P813', is_reference=True) # retrieved (P813 - wikidata) or date (P74 - test wd) . Data type: Point in time\n",
    "        dateCre = pywikibot.WbTime(year=int(today.strftime(\"%Y\")), month=int(today.strftime(\"%m\")), day=int(today.strftime(\"%d\")))\n",
    "        retrieved.setTarget(dateCre) #Inserting value\n",
    "    \n",
    "        claim.addSource(retrieved, summary=u'Adding source.')\n",
    "        print('Source added!')\n",
    "    \n",
    "add_source(\"Q4115189\", 'P576')"
   ]
  },
  {
   "cell_type": "code",
   "execution_count": 7,
   "id": "9607ec3d-16e3-4451-856c-a3e52d92e2d1",
   "metadata": {},
   "outputs": [
    {
     "name": "stderr",
     "output_type": "stream",
     "text": [
      "WARNING: API error badtoken: Invalid CSRF token.\n",
      "Sleeping for 19.8 seconds, 2022-04-09 17:18:00\n"
     ]
    },
    {
     "name": "stdout",
     "output_type": "stream",
     "text": [
      "Source added!\n"
     ]
    }
   ],
   "source": [
    "#This function adds a source to a particular existing statement/claim.\n",
    "\n",
    "\n",
    "def add_part_source(data_item, prop):\n",
    "    site = pywikibot.Site(\"wikidata\", \"wikidata\")\n",
    "    repo = site.data_repository()\n",
    "    item = pywikibot.ItemPage(repo, data_item) \n",
    "    item_dict = item.get()\n",
    "\n",
    "    for claim in item_dict['claims'][prop]: # Loop through items\n",
    "        target_claim = claim.getTarget().title()\n",
    "        if target_claim == 'Q15397819':\n",
    "            retrieved = pywikibot.Claim(repo, u'P813', is_reference=True) # retrieved (P813 - wikidata) or date (P74 - test wd) . Data type: Point in time\n",
    "            dateCre = pywikibot.WbTime(year=2020, month=12, day=25) # Example retrieved -> 25.12.2020\n",
    "            retrieved.setTarget(dateCre) #Inserting value\n",
    "    \n",
    "            claim.addSource(retrieved, summary=u'Adding source.')\n",
    "            print('Source added!')\n",
    "    \n",
    "add_part_source(\"Q4115189\", 'P460')"
   ]
  },
  {
   "cell_type": "code",
   "execution_count": 46,
   "id": "fe46f924-7ca0-4cac-9ca0-d8f5713a4c3d",
   "metadata": {},
   "outputs": [
    {
     "name": "stdout",
     "output_type": "stream",
     "text": [
      "<bound method WbQuantity.get_unit_item of WbQuantity(amount=18, upperBound=None, lowerBound=None, unit=http://www.wikidata.org/entity/Q11573)>\n",
      "<bound method WbQuantity.get_unit_item of WbQuantity(amount=45.6, upperBound=None, lowerBound=None, unit=http://www.wikidata.org/entity/Q174728)>\n"
     ]
    }
   ],
   "source": [
    "#This function prints the value of a WbQuantity statement/claim.\n",
    "\n",
    "def props_value(data_item, prop):\n",
    "    site = pywikibot.Site(\"wikidata\", \"wikidata\")\n",
    "    repo = site.data_repository()\n",
    "    item = pywikibot.ItemPage(repo, data_item) \n",
    "    item_dict = item.get()\n",
    "\n",
    "    for claim in item_dict['claims'][prop]: \n",
    "        qual = claim.qualifiers\n",
    "        #for key, value in qual.items():\n",
    "        print(claim.target.get_unit_item)#this is because it has a data type of WbQuantity\n",
    "    \n",
    "props_value(\"Q4115189\", 'P5524')"
   ]
  },
  {
   "cell_type": "code",
   "execution_count": 49,
   "id": "19777d5a-14bf-463b-8d1a-bf82b8c0da9a",
   "metadata": {},
   "outputs": [
    {
     "name": "stdout",
     "output_type": "stream",
     "text": [
      "<bound method WbTime.toTimestr of WbTime(year=2002, month=11, day=12, hour=0, minute=0, second=0, precision=11, before=0, after=0, timezone=0, calendarmodel=http://www.wikidata.org/entity/Q1985727)>\n"
     ]
    }
   ],
   "source": [
    "#This function prints the value of a Wbtime statement/claim.\n",
    "\n",
    "def props_value(data_item, prop):\n",
    "    site = pywikibot.Site(\"wikidata\", \"wikidata\")\n",
    "    repo = site.data_repository()\n",
    "    item = pywikibot.ItemPage(repo, data_item) \n",
    "    item_dict = item.get()\n",
    "\n",
    "    for claim in item_dict['claims'][prop]: \n",
    "        qual = claim.qualifiers\n",
    "        #for key, value in qual.items():\n",
    "        print(claim.target.toTimestr)#this is because it has a data type of WbTime \n",
    "props_value(\"Q4115189\", 'P585')"
   ]
  },
  {
   "cell_type": "code",
   "execution_count": 53,
   "id": "975a80f5-bafa-4bf6-8317-c10d80f8ba04",
   "metadata": {},
   "outputs": [
    {
     "name": "stdout",
     "output_type": "stream",
     "text": [
      "['P1011', 'P582', 'P580']\n"
     ]
    }
   ],
   "source": [
    "#This function prints all the IDs of the qualifiers in a property for a given value\n",
    "\n",
    "def find_quaifiers(data, props):\n",
    "    site = pywikibot.Site(\"wikidata\", \"wikidata\")\n",
    "    repo = site.data_repository()\n",
    "    item = pywikibot.ItemPage(repo, data)\n",
    "    item_dict = item.get()\n",
    "    #Get the item dictionary\n",
    "    for claim in item_dict['claims'][props]: \n",
    "        \n",
    "        target_claim = claim.getTarget().title()\n",
    "        if target_claim == 'Q2680952':\n",
    "            \n",
    "            team = claim.qualifiers \n",
    "            print(list(team))\n",
    "    \n",
    "find_quaifiers(\"Q4115189\", 'P150')"
   ]
  },
  {
   "cell_type": "code",
   "execution_count": 3,
   "id": "962ccce4-fcec-4cce-b063-04ba23387988",
   "metadata": {},
   "outputs": [],
   "source": []
  },
  {
   "cell_type": "code",
   "execution_count": 59,
   "id": "58ac0f6e-d845-45bf-bf1e-3d0127dcbfe8",
   "metadata": {},
   "outputs": [],
   "source": []
  },
  {
   "cell_type": "markdown",
   "id": "d869f266-1f42-45bb-a38c-6fd1f8f7c2c8",
   "metadata": {},
   "source": [
    "Statement: A statement consists of a property-value pair, for example, \"location: Germany.\"\n",
    "\n",
    "The property in a statement describes the data value, and can be thought of as a category of data like \"color\", \"population,\" or \"Commons media\" (files hosted on Wikimedia Commons). The value in the statement is the actual piece of data that describes the item.\n",
    "\n",
    "Statements can also be expanded upon, annotated, or contextualized with the addition of optional qualifiers, references, and ranks. The core part of a statement without references and ranks is also called claim. A claim without qualifiers is also referred to as snak.\n",
    "\n",
    "Properties: Each property in Wikidata is assigned a pre-defined data type which restricts what can be added as its value. For example, only other items can be added as a value for the property \"color\", only numbers can be added for the property \"population,\" and only multimedia files viewable on Wikimedia Commons can be added for the property \"Commons media.\"\n",
    "Property labels: should be as unambiguous as possible so that it is clear to a user which property is the correct one to use when editing items and adding statements. Properties rarely refer to commonly known concepts but they are more constructs of the Wikidata with specific meanings. Unlike items, property labels must be unique.\n",
    "\n",
    "Property descriptions: are less relevant for disambiguation but they should provide enough information about the scope and context of the property so that users understand appropriate usage of the property without having to consult additional help.\n",
    "Property aliases: should include all alternative ways of referring to the property.\n",
    "\n",
    "Values: If an item by nature can have properties with multiple values (like children of a person or official languages of a country), it is perfectly acceptable to add each of these multiple values. If, on the other hand, an item ideally should have only one value (like the population of a city) but has multiple values (for example, because different sources report different numbers), all values may be added, and additional qualifiers should be used. \n",
    "\n",
    "Qualifiers are used to further describe or refine the value of a property given in a statement"
   ]
  }
 ],
 "metadata": {
  "kernelspec": {
   "display_name": "Python 3 (ipykernel)",
   "language": "python",
   "name": "python3"
  },
  "language_info": {
   "codemirror_mode": {
    "name": "ipython",
    "version": 3
   },
   "file_extension": ".py",
   "mimetype": "text/x-python",
   "name": "python",
   "nbconvert_exporter": "python",
   "pygments_lexer": "ipython3",
   "version": "3.8.10"
  }
 },
 "nbformat": 4,
 "nbformat_minor": 5
}
