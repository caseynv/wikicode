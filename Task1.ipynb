{
 "cells": [
  {
   "cell_type": "code",
   "execution_count": null,
   "id": "289d93b9",
   "metadata": {},
   "outputs": [],
   "source": [
    "# Connect to enwiki\n",
    "enwiki = pywikibot.Site('en', 'wikipedia')\n",
    "\n",
    "# and then to wikidata\n",
    "enwiki_repo = enwiki.data_repository()\n",
    "\n",
    "#login to your wikidata page\n",
    "pywikibot.Site().login()\n",
    "\n",
    "#import all the needed packages\n",
    "import pywikibot\n",
    "import datetime\n",
    "import math\n",
    "import re\n",
    "from datetime import date\n",
    "\n"
   ]
  },
  {
   "cell_type": "code",
   "execution_count": null,
   "id": "ed478e4c",
   "metadata": {},
   "outputs": [
    {
     "name": "stderr",
     "output_type": "stream",
     "text": [
      "Sleeping for 9.6 seconds, 2022-03-27 17:47:22\n"
     ]
    },
    {
     "name": "stdout",
     "output_type": "stream",
     "text": [
      "Welldone. One claim created!\n"
     ]
    }
   ],
   "source": [
    "#add new claim depending on the type of property to a new statement\n",
    "#find the datatype of properties here: https://www.wikidata.org/wiki/Special:ListProperties/\n",
    "\n",
    "\n",
    "\n",
    "def add_claim(data_item, data, data_type, value):\n",
    "    site = pywikibot.Site(\"wikidata\", \"wikidata\")\n",
    "    repo = site.data_repository()\n",
    "    item = pywikibot.ItemPage(repo, data_item)\n",
    "\n",
    "\n",
    "    #CLAIM\n",
    "    if data_type == 'item':\n",
    "        try:\n",
    "             #Adding located in the administrative territorial entity (P131)\n",
    "            itemclaim = pywikibot.Claim(repo, data)\n",
    "            iclaim = pywikibot.ItemPage(site, value)\n",
    "            itemclaim.setTarget(iclaim) #Set the target value in the local object.\n",
    "\n",
    "            item.addClaim(itemclaim, summary=u'Adding claim to Q122042') #Inserting value with summary to Q210194\"\"\"\n",
    "            print('Welldone. One claim created!')\n",
    "        except:\n",
    "            print('Oops! Check the property data type')\n",
    "            \n",
    "    elif data_type == 'string':\n",
    "        #string can be url, external-id, musical-notation and mathematical expression\n",
    "        try:\n",
    "             #Adding located in the administrative territorial entity (P131)\n",
    "            itemclaim = pywikibot.Claim(repo, data)\n",
    "            \n",
    "            itemclaim.setTarget(value) #Set the target value in the local object.\n",
    "\n",
    "            item.addClaim(itemclaim, summary=u'Adding claim to Q122042') #Inserting value with summary to Q210194\"\"\"\n",
    "            print('Welldone. One claim created!')\n",
    "        except:\n",
    "            print('Oops! Check the property data type')\n",
    "\n",
    "    elif data_type == 'mono-text':\n",
    "        #mtexdata = P1448, P1813\n",
    "        try:\n",
    "            monoclaim = pywikibot.Claim(repo, data)\n",
    "            targetmono = pywikibot.WbMonolingualText(text, 'en')\n",
    "            monoclaim.setTarget(targetmono)\n",
    "            item.addClaim(monoclaim, summary=u'Adding monolingualtext claim')\n",
    "            print('Welldone. One claim created!')\n",
    "        except:\n",
    "            print('Oops! Check the property data type')\n",
    "\n",
    "    elif data_type == 'point-in-time':\n",
    "        #timedata = P569, P570\n",
    "        try:\n",
    "            timeclaim = pywikibot.Claim(repo, data)\n",
    "            targetime = pywikibot.Wbtime(value,'en')\n",
    "            matchre = re.match(r'([-+]?\\d+)-(\\d+)-(\\d+)T(\\d+):(\\d+):(\\d+)Z', value)\n",
    "\n",
    "            if matchre is not None:\n",
    "                timeclaim.setTarget(targetime)\n",
    "                item.addClaim(timeclaim, summary=u'Adding a time claim')\n",
    "                print('Welldone. One claim created!')\n",
    "            else:\n",
    "                print('The the standard timestamp string')\n",
    "        except:\n",
    "            print('Oops! Check the property data type')\n",
    "\n",
    "    elif data_type == 'coordinates':\n",
    "        #coordata = P625, P1332\n",
    "        try:\n",
    "            coordclaim = pywikibot.Claim(repo, data)\n",
    "            coord = pywikibot.Coordinate(lat=52.25, lon=0.1225, precision=0.001, site=site)\n",
    "\n",
    "            coordclaim.setTarget(coord)\n",
    "\n",
    "            item.addClaim(coordclaim, summary=u'Adding coordinate claim')\n",
    "\n",
    "            print('Welldone. One claim created!')\n",
    "        except:\n",
    "            print('Oops! Check the property data type')\n",
    "\n",
    "\n",
    "    elif data_type == 'quantity':\n",
    "        #qdata = P1087, P1117\n",
    "        try:\n",
    "            quantclaim = pywikibot.Claim(repo, data)\n",
    "            quant = pywikibot.WbQuantity(amount, unit)\n",
    "\n",
    "            coordclaim.setTarget(quant)\n",
    "\n",
    "            item.addClaim(quantclaim, summary=u'Adding quantity claim')\n",
    "\n",
    "            print('Welldone. One claim created!')\n",
    "        except:\n",
    "            print('Oops! Check the property data type')\n",
    "\n",
    "    elif data_type == 'geo-shape':\n",
    "        #geo-data = P3896, P8485\n",
    "        try:\n",
    "            geoclaim = pywikibot.Claim(repo, data)\n",
    "            geo = pywikibot.WbGeoShape(value,'en')\n",
    "\n",
    "            geoclaim.setTarget(geo)\n",
    "\n",
    "            item.addClaim(geoclaim, summary=u'Adding geo-shape claim')\n",
    "\n",
    "            print('Welldone. One claim created!')\n",
    "        except:\n",
    "            print('Oops! Check the property data type')\n",
    "\n",
    "\n",
    "    elif data_type == 'commonsMedia':\n",
    "        #comdata = P14, P94\n",
    "        try:\n",
    "            comsite = pywikibot.Site('commons', 'commons')\n",
    "            com = pywikibot.FilePage(comsite, value)\n",
    "            comclaim.setTarget(com)\n",
    "            item.addClaim(comclaim, summary=u'Adding geo-shape claim')\n",
    "\n",
    "            print('Welldone. One claim created!')\n",
    "        except:\n",
    "            print('Oops! Check the property data type')\n",
    "\n",
    "    elif data_type == 'tab-data':\n",
    "        #tab-data = P4150, P8204\n",
    "\n",
    "        try:\n",
    "            tabclaim = pywikibot.Claim(repo, data)\n",
    "            tab = pywikibot.WbTabularData(value,'en')\n",
    "\n",
    "            tabclaim.setTarget(tab)\n",
    "\n",
    "            item.addClaim(tabclaim, summary=u'Adding tabular-data claim')\n",
    "\n",
    "            print('Welldone. One claim created!')\n",
    "        except:\n",
    "            print('Oops! Check the property data type')\n",
    "\n",
    "    elif data_type == 'property':\n",
    "        try:\n",
    "            propclaim = pywikibot.Claim(repo, data)\n",
    "            propp = pywikibot.PropertyPage(site, props)\n",
    "\n",
    "            tabclaim.setTarget(propp)\n",
    "\n",
    "            item.addClaim(propclaim, summary=u'Adding tabular-data claim')\n",
    "\n",
    "            print('Welldone. One claim created!')\n",
    "\n",
    "        except:\n",
    "            print('Oops! Check the property data type')\n",
    "\n",
    "\n",
    "    else:\n",
    "        try:\n",
    "            unclaim = pywikibot.Claim(repo, data)\n",
    "            tab = pywikibot.WbUnknown('TRUSTEE','en')\n",
    "\n",
    "            tabclaim.setTarget(tab)\n",
    "\n",
    "            item.addClaim(tabclaim, summary=u'Adding tabular-data claim')\n",
    "\n",
    "            print('Welldone. One claim created!')\n",
    "\n",
    "        except:\n",
    "            print('Oops! Check the property data type')\n",
    "\n",
    "\n",
    "add_claim(\"Q4115189\", 'P17', 'item', 'Q35410')\n",
    "\n",
    "\n"
   ]
  },
  {
   "cell_type": "code",
   "execution_count": null,
   "id": "2c2a8118",
   "metadata": {},
   "outputs": [
    {
     "name": "stderr",
     "output_type": "stream",
     "text": [
      "Sleeping for 9.5 seconds, 2022-04-03 10:48:02\n"
     ]
    },
    {
     "name": "stdout",
     "output_type": "stream",
     "text": [
      "Just created a new qualifier!\n"
     ]
    }
   ],
   "source": [
    "#Adding a qualifier to existing claims/statements\n",
    "\n",
    "\n",
    "def add_qualifier(p_item, props, target):\n",
    "    site = pywikibot.Site(\"wikidata\", \"wikidata\")\n",
    "    repo = site.data_repository()\n",
    "    item = pywikibot.ItemPage(repo, \"Q4115189\")\n",
    "    item_dict = item.get() #Fetch all page data, and cache it.\n",
    "     \n",
    "        \n",
    "    for claim in item_dict['claims'][props]: #Finds all statements (P17)\n",
    "        if p_item not in claim.qualifiers: #If not already exist\n",
    "\n",
    "        # Generate QUALIFIER FOR EXISTENCE STATEMENTS/CLAIMS\n",
    "            qualifier = pywikibot.Claim(repo, p_item)\n",
    "            qualifier.setTarget(target)\n",
    "\n",
    "            claim.addQualifier(qualifier, summary=u'Adding a qualifier.') #Adding qualifier to all statements (P131)\n",
    "            print('Just created a new qualifier!')\n",
    "        else:\n",
    "            print('Try again')\n",
    "add_qualifier('P223', 'P17', 'creative')"
   ]
  },
  {
   "cell_type": "code",
   "execution_count": null,
   "id": "bfd05b1e",
   "metadata": {},
   "outputs": [
    {
     "name": "stdout",
     "output_type": "stream",
     "text": [
      "New Claim!\n"
     ]
    },
    {
     "name": "stderr",
     "output_type": "stream",
     "text": [
      "Sleeping for 9.6 seconds, 2022-03-27 17:56:20\n"
     ]
    },
    {
     "name": "stdout",
     "output_type": "stream",
     "text": [
      "New Qualifier\n"
     ]
    }
   ],
   "source": [
    "#Adding a qualifier to newly-created claim/statement that is creating a claim and a qualifier for that claim at the same time\n",
    "\n",
    "\n",
    "def add_qualifer_and_claim(new_claim, prop, value, prop_value, item):\n",
    "    site = pywikibot.Site(\"wikidata\", \"wikidata\")\n",
    "    repo = site.data_repository()\n",
    "    item = pywikibot.ItemPage(repo, new_claim)\n",
    "\n",
    "#CLAIM\n",
    "    claim = pywikibot.Claim(repo, prop) #Adding located in the  entity (P58)\n",
    "    target = pywikibot.ItemPage(repo, value) #Connecting P131 with Cambridge (Q350), who is a Q-id.\n",
    "    claim.setTarget(target) #Set the target value in the local object.\n",
    "    item.addClaim(claim, summary=u'Adding claim to Q210194') #Inserting value with summary to Q210194\n",
    "    print('New Claim!')\n",
    "\n",
    "#QUALIFIER\n",
    "    qualifier = pywikibot.Claim(repo, prop_value)\n",
    "    target = pywikibot.ItemPage(repo, item)\n",
    "    qualifier.setTarget(target)\n",
    "    claim.addQualifier(qualifier, summary=u'Adding a qualifier.')\n",
    "    print('New Qualifier!')\n",
    "\n",
    "add_qualifer_and_claim(\"Q4115189\", 'P58', \"Q4546\", 'P131', \"Q35409\")"
   ]
  },
  {
   "cell_type": "code",
   "execution_count": null,
   "id": "1a1457ba-834b-4e61-a6de-dbf709c86920",
   "metadata": {},
   "outputs": [
    {
     "name": "stdout",
     "output_type": "stream",
     "text": [
      "New Claim created!\n"
     ]
    },
    {
     "name": "stderr",
     "output_type": "stream",
     "text": [
      "Sleeping for 9.6 seconds, 2022-04-03 11:07:23\n"
     ]
    },
    {
     "name": "stdout",
     "output_type": "stream",
     "text": [
      "New sources created!\n"
     ]
    }
   ],
   "source": [
    "#Adding sources to newly-created claim/statement that is creating a claim and a source for that claim at the same time\n",
    "\n",
    "\n",
    "def add_sources_and_claim(data_item, prop, prop_value, ref1, ref1_value):\n",
    "    site = pywikibot.Site(\"wikidata\", \"wikidata\")\n",
    "    repo = site.data_repository()\n",
    "    item = pywikibot.ItemPage(repo, data_item)\n",
    "\n",
    "    #CLAIM\n",
    "    claim = pywikibot.Claim(repo, prop) #Adding located in the administrative territorial entity (P131)\n",
    "    target = pywikibot.ItemPage(repo, prop_value) #Connecting P131 with Cambridge (Q350), that is a Q-id.\n",
    "    claim.setTarget(target) #Set the target value in the local object.\n",
    "    item.addClaim(claim, summary=u'Adding claim to Q210194') #Inserting value with summary to Q210194\n",
    "    print('New Claim created!')\n",
    "\n",
    "    #ADDS TWO REFERENCES\n",
    "    #FIRST REF.\n",
    "\n",
    "    ref = pywikibot.Claim(repo, ref1) #stated in (P248)\n",
    "    ref.setTarget(pywikibot.ItemPage(repo, ref1_value)) #Connecting P248 with Google Knowledge Graph (Q648625), that is a Q-id. example stated in -> Google Knowledge Graph).\n",
    "\n",
    "\n",
    "    #SECOND REF.\n",
    "    today = date.today() #Date today\n",
    "    retrieved = pywikibot.Claim(repo, u'P813') #retrieved (P813). Data type: Point in time\n",
    "    dateCre = pywikibot.WbTime(year=int(today.strftime(\"%Y\")), month=int(today.strftime(\"%m\")), day=int(today.strftime(\"%d\"))) #retrieved -> %DATE TODAY%. Example retrieved -> 29.11.2020\n",
    "    retrieved.setTarget(dateCre) #Inserting value\n",
    "\n",
    "    claim.addSources([ref, retrieved], summary=u'Adding sources to administrative territorial entity (P131).')\n",
    "\n",
    "    print('New sources created!')\n",
    "    \n",
    "add_sources_and_claim(\"Q4115189\", 'P131', \"Q4546\", 'P19', 'Q648625')\n",
    "            "
   ]
  },
  {
   "cell_type": "code",
   "execution_count": null,
   "id": "3c43cb36-8467-4516-96e9-67b9f38970b6",
   "metadata": {},
   "outputs": [
    {
     "name": "stdout",
     "output_type": "stream",
     "text": [
      "Source added!\n"
     ]
    },
    {
     "name": "stderr",
     "output_type": "stream",
     "text": [
      "Sleeping for 9.6 seconds, 2022-04-03 19:37:27\n"
     ]
    },
    {
     "name": "stdout",
     "output_type": "stream",
     "text": [
      "Source added!\n"
     ]
    }
   ],
   "source": [
    "#This function adds a source to an existing statement/claim.\n",
    "\n",
    "\n",
    "def add_source(data_item, prop):\n",
    "    site = pywikibot.Site(\"wikidata\", \"wikidata\")\n",
    "    repo = site.data_repository()\n",
    "    item = pywikibot.ItemPage(repo, data_item) \n",
    "    item_dict = item.get()\n",
    "\n",
    "    for claim in item_dict['claims'][prop]: # Loop through items\n",
    "        \n",
    "        #ADD A REF.\n",
    "        today = date.today() #Date today\n",
    "        retrieved = pywikibot.Claim(repo, u'P813', is_reference=True) # retrieved (P813 - wikidata) or date (P74 - test wd) . Data type: Point in time\n",
    "        dateCre = pywikibot.WbTime(year=int(today.strftime(\"%Y\")), month=int(today.strftime(\"%m\")), day=int(today.strftime(\"%d\"))) # retrieved -> %DATE TODAY%. Example retrieved -> 29.11.2020\n",
    "        retrieved.setTarget(dateCre) #Inserting value\n",
    "    \n",
    "        claim.addSource(retrieved, summary=u'Adding source.')\n",
    "        print('Source added!')\n",
    "    \n",
    "add_source(\"Q4115189\", 'P576')"
   ]
  },
  {
   "cell_type": "code",
   "execution_count": null,
   "id": "9607ec3d-16e3-4451-856c-a3e52d92e2d1",
   "metadata": {},
   "outputs": [],
   "source": [
    "#This function adds a source to a particular existing statement/claim.\n",
    "\n",
    "\n",
    "def add_part_source(data_item, prop):\n",
    "    site = pywikibot.Site(\"wikidata\", \"wikidata\")\n",
    "    repo = site.data_repository()\n",
    "    item = pywikibot.ItemPage(repo, data_item) \n",
    "    item_dict = item.get()\n",
    "\n",
    "    for claim in item_dict['claims'][prop]: # Loop through items\n",
    "        target_claim = claim.getTarget().title()\n",
    "        if target_claim == 'Q15397819':\n",
    "            today = date.today() #Date today\n",
    "            retrieved = pywikibot.Claim(repo, u'P813', is_reference=True) # retrieved (P813 - wikidata) or date (P74 - test wd) . Data type: Point in time\n",
    "            dateCre = pywikibot.WbTime(year=2020, month=12, day=25) # retrieved -> %DATE TODAY%. Example retrieved -> 29.11.2020\n",
    "            retrieved.setTarget(dateCre) #Inserting value\n",
    "    \n",
    "            claim.addSource(retrieved, summary=u'Adding source.')\n",
    "            print('Source added!')\n",
    "    \n",
    "add_part_source(\"Q4115189\", 'P460')"
   ]
  },
  {
   "cell_type": "code",
   "execution_count": 332,
   "id": "76670446-1ecc-474e-838a-f06aef5dff9a",
   "metadata": {},
   "outputs": [
    {
     "name": "stdout",
     "output_type": "stream",
     "text": [
      "1989-11-01T00:00:00Z\n",
      "2021-11-08T00:00:00Z\n"
     ]
    }
   ],
   "source": [
    "#This function prints the value of a Wbtime statement/claim.\n",
    "\n",
    "def props_value(data_item, prop):\n",
    "    site = pywikibot.Site(\"wikidata\", \"wikidata\")\n",
    "    repo = site.data_repository()\n",
    "    item = pywikibot.ItemPage(repo, data_item) \n",
    "    item_dict = item.get()\n",
    "\n",
    "    for claim in item_dict['claims'][prop]: # Loop through items\n",
    "    \n",
    "        print(claim.getTarget().toTimestamp())\n",
    "    \n",
    "props_value(\"Q4115189\", 'P576')"
   ]
  },
  {
   "cell_type": "code",
   "execution_count": null,
   "id": "975a80f5-bafa-4bf6-8317-c10d80f8ba04",
   "metadata": {},
   "outputs": [
    {
     "name": "stdout",
     "output_type": "stream",
     "text": [
      "2\n"
     ]
    }
   ],
   "source": [
    "#This function prints the value of a WbQuantity statement/claim.\n",
    "\n",
    "\n",
    "def props_value(data_item, prop):\n",
    "    site = pywikibot.Site(\"wikidata\", \"wikidata\")\n",
    "    repo = site.data_repository()\n",
    "    item = pywikibot.ItemPage(repo, data_item) \n",
    "    item_dict = item.get()\n",
    "\n",
    "    for claim in item_dict['claims'][prop]: # Loop through items\n",
    "    \n",
    "        print(claim.getTarget().amount)\n",
    "    \n",
    "props_value(\"Q4115189\", 'P2048') \n"
   ]
  },
  {
   "cell_type": "code",
   "execution_count": 331,
   "id": "a8be0df9-e06f-4ad2-b567-116993e0d787",
   "metadata": {},
   "outputs": [
    {
     "name": "stdout",
     "output_type": "stream",
     "text": [
      "P19\n",
      "++++++++++++++++++++++++++++++++++++++++++++++++++++++++++\n",
      "P813\n",
      "++++++++++++++++++++++++++++++++++++++++++++++++++++++++++\n"
     ]
    }
   ],
   "source": [
    "#This function prints all the IDs of the references/sources in a property\n",
    "\n",
    "\n",
    "def print_sourceid(data_item, prop):\n",
    "    site = pywikibot.Site(\"wikidata\", \"wikidata\")\n",
    "    repo = site.data_repository()\n",
    "    item = pywikibot.ItemPage(repo, data_item) \n",
    "    item_dict = item.get()\n",
    "\n",
    "    for claim in item_dict['claims'][prop]: \n",
    "       \n",
    "        \n",
    "        for team in claim.sources: \n",
    "            sourceid = dict(team)\n",
    "            \n",
    "            for teamm in list(sourceid.keys()):\n",
    "                print(teamm)\n",
    "                print('++++++++++++++++++++++++++++++++++++++++++++++++++++++++++')\n",
    "    \n",
    "print_sourceid(\"Q4115189\", 'P131')"
   ]
  },
  {
   "cell_type": "code",
   "execution_count": 330,
   "id": "0c19ed5c-64c8-4824-8e21-4af8c0b693ea",
   "metadata": {},
   "outputs": [
    {
     "name": "stdout",
     "output_type": "stream",
     "text": [
      "P582\n",
      "++++++++++++++++++++++++++++++++++++++++++++++++++++++++++++++++++++++++++++++\n"
     ]
    }
   ],
   "source": [
    "#This function prints all the IDs of the qualifiers in a property for a given value\n",
    "\n",
    "def find_quaifiers(data, props):\n",
    "    site = pywikibot.Site(\"wikidata\", \"wikidata\")\n",
    "    repo = site.data_repository()\n",
    "    item = pywikibot.ItemPage(repo, data)\n",
    "\n",
    "    item_dict = item.get()\n",
    "#Get the item dictionary\n",
    "\n",
    "\n",
    "    for claim in item_dict['claims'][props]: \n",
    "        \n",
    "        target_claim = claim.getTarget().title()\n",
    "        if target_claim == 'Q2368925':\n",
    "            team = claim.qualifiers \n",
    "            \n",
    "            print(list(team)[0])\n",
    "            print('++++++++++++++++++++++++++++++++++++++++++++++++++++++++++++++++++++++++++++++')\n",
    "    \n",
    "find_quaifiers(\"Q4115189\", 'P150')"
   ]
  },
  {
   "cell_type": "code",
   "execution_count": null,
   "id": "3b88d11c-0c68-4a10-bd26-dc891d2d7e47",
   "metadata": {},
   "outputs": [],
   "source": []
  }
 ],
 "metadata": {
  "kernelspec": {
   "display_name": "Python 3 (ipykernel)",
   "language": "python",
   "name": "python3"
  },
  "language_info": {
   "codemirror_mode": {
    "name": "ipython",
    "version": 3
   },
   "file_extension": ".py",
   "mimetype": "text/x-python",
   "name": "python",
   "nbconvert_exporter": "python",
   "pygments_lexer": "ipython3",
   "version": "3.8.10"
  }
 },
 "nbformat": 4,
 "nbformat_minor": 5
}
