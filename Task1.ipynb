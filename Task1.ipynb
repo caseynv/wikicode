{
 "cells": [
  {
   "cell_type": "code",
   "execution_count": null,
   "id": "289d93b9",
   "metadata": {},
   "outputs": [],
   "source": [
    "import pywikibot\n",
    "# Indent allows to indent multi-line strings\n",
    "\n",
    "# Connect to enwiki\n",
    "enwiki = pywikibot.Site('en', 'wikipedia')\n",
    "# and then to wikidata\n",
    "enwiki_repo = enwiki.data_repository()\n",
    "\n",
    "#login to your wikidata page\n",
    "pywikibot.Site().login()"
   ]
  },
  {
   "cell_type": "code",
   "execution_count": 2,
   "id": "ed478e4c",
   "metadata": {},
   "outputs": [
    {
     "name": "stderr",
     "output_type": "stream",
     "text": [
      "Sleeping for 9.6 seconds, 2022-03-27 17:47:22\n"
     ]
    },
    {
     "name": "stdout",
     "output_type": "stream",
     "text": [
      "Welldone. One claim created!\n"
     ]
    }
   ],
   "source": [
    "#add new claim to a new statement\n",
    "# TODOS\n",
    "# Still needs refinement\n",
    "\n",
    "\n",
    "import pywikibot\n",
    "# Indent allows to indent multi-line strings\n",
    "\n",
    "import datetime\n",
    "import math\n",
    "import re\n",
    "\n",
    "# Connect to enwiki\n",
    "# and then to wikidata\n",
    "\n",
    "pywikibot.Site().login()\n",
    "\"\"\"\n",
    "Adding a qualifier to newly-created claim/statement\n",
    "\"\"\"\n",
    "def add_claim(data, data_type, value):\n",
    "    site = pywikibot.Site(\"wikidata\", \"wikidata\")\n",
    "    repo = site.data_repository()\n",
    "    item = pywikibot.ItemPage(repo, \"Q4115189\")\n",
    "\n",
    "\n",
    "    #CLAIM\n",
    "    if data_type == 'item':\n",
    "        try:\n",
    "             #Adding located in the administrative territorial entity (P131)\n",
    "            itemclaim = pywikibot.Claim(repo, data)\n",
    "            iclaim = pywikibot.ItemPage(site, value)\n",
    "            itemclaim.setTarget(iclaim) #Set the target value in the local object.\n",
    "\n",
    "            item.addClaim(itemclaim, summary=u'Adding claim to Q122042') #Inserting value with summary to Q210194\"\"\"\n",
    "            print('Welldone. One claim created!')\n",
    "        except:\n",
    "            print('Oops! Check the property data type')\n",
    "\n",
    "\n",
    "    elif data_type == 'mono-text':\n",
    "        #mtexdata = P1448, P1813\n",
    "        try:\n",
    "            monoclaim = pywikibot.Claim(repo, data)\n",
    "            targetmono = pywikibot.WbMonolingualText(text, 'en')\n",
    "            monoclaim.setTarget(targetmono)\n",
    "            item.addClaim(monoclaim, summary=u'Adding monolingualtext claim')\n",
    "            print('Welldone. One claim created!')\n",
    "        except:\n",
    "            print('Oops! Check the property data type')\n",
    "\n",
    "    elif data_type == 'point-in-time':\n",
    "        #timedata = P569, P570\n",
    "        try:\n",
    "            timeclaim = pywikibot.Claim(repo, data)\n",
    "            targetime = pywikibot.Wbtime(value,'en')\n",
    "            matchre = re.match(r'([-+]?\\d+)-(\\d+)-(\\d+)T(\\d+):(\\d+):(\\d+)Z', value)\n",
    "\n",
    "            if matchre is not None:\n",
    "                timeclaim.setTarget(targetime)\n",
    "                item.addClaim(timeclaim, summary=u'Adding a time claim')\n",
    "                print('Welldone. One claim created!')\n",
    "            else:\n",
    "                print('The the standard timestamp string')\n",
    "        except:\n",
    "            print('Oops! Check the property data type')\n",
    "\n",
    "    elif data_type == 'coordinates':\n",
    "        #coordata = P625, P1332\n",
    "        try:\n",
    "            coordclaim = pywikibot.Claim(repo, data)\n",
    "            coord = pywikibot.Coordinate(lat=52.25, lon=0.1225, precision=0.001, site=site)\n",
    "\n",
    "            coordclaim.setTarget(coord)\n",
    "\n",
    "            item.addClaim(coordclaim, summary=u'Adding coordinate claim')\n",
    "\n",
    "            print('Welldone. One claim created!')\n",
    "        except:\n",
    "            print('Oops! Check the property data type')\n",
    "\n",
    "\n",
    "    elif data_type == 'quantity':\n",
    "        #qdata = P1087, P1117\n",
    "        try:\n",
    "            quantclaim = pywikibot.Claim(repo, data)\n",
    "            quant = pywikibot.WbQuantity(amount, unit)\n",
    "\n",
    "            coordclaim.setTarget(quant)\n",
    "\n",
    "            item.addClaim(quantclaim, summary=u'Adding quantity claim')\n",
    "\n",
    "            print('Welldone. One claim created!')\n",
    "        except:\n",
    "            print('Oops! Check the property data type')\n",
    "\n",
    "    elif data_type == 'geo-shape':\n",
    "        #geo-data = P3896, P8485\n",
    "        try:\n",
    "            geoclaim = pywikibot.Claim(repo, data)\n",
    "            geo = pywikibot.WbGeoShape(value,'en')\n",
    "\n",
    "            geoclaim.setTarget(geo)\n",
    "\n",
    "            item.addClaim(geoclaim, summary=u'Adding geo-shape claim')\n",
    "\n",
    "            print('Welldone. One claim created!')\n",
    "        except:\n",
    "            print('Oops! Check the property data type')\n",
    "\n",
    "\n",
    "    elif data_type == 'commonsMedia':\n",
    "        #comdata = P14, P94\n",
    "        try:\n",
    "            comsite = pywikibot.Site('commons', 'commons')\n",
    "            com = pywikibot.FilePage(comsite, value)\n",
    "            comclaim.setTarget(com)\n",
    "            item.addClaim(comclaim, summary=u'Adding geo-shape claim')\n",
    "\n",
    "            print('Welldone. One claim created!')\n",
    "        except:\n",
    "            print('Oops! Check the property data type')\n",
    "\n",
    "    elif data_type == 'tab-data':\n",
    "        #tab-data = P4150, P8204\n",
    "\n",
    "        try:\n",
    "            tabclaim = pywikibot.Claim(repo, data)\n",
    "            tab = pywikibot.WbTabularData(value,'en')\n",
    "\n",
    "            tabclaim.setTarget(tab)\n",
    "\n",
    "            item.addClaim(tabclaim, summary=u'Adding tabular-data claim')\n",
    "\n",
    "            print('Welldone. One claim created!')\n",
    "        except:\n",
    "            print('Oops! Check the property data type')\n",
    "\n",
    "    elif data_type == 'property':\n",
    "        try:\n",
    "            propclaim = pywikibot.Claim(repo, data)\n",
    "            propp = pywikibot.PropertyPage(site, props)\n",
    "\n",
    "            tabclaim.setTarget(propp)\n",
    "\n",
    "            item.addClaim(propclaim, summary=u'Adding tabular-data claim')\n",
    "\n",
    "            print('Welldone. One claim created!')\n",
    "\n",
    "        except:\n",
    "            print('Oops! Check the property data type')\n",
    "\n",
    "\n",
    "    else:\n",
    "        try:\n",
    "            unclaim = pywikibot.Claim(repo, data)\n",
    "            tab = pywikibot.WbUnknown('TRUSTEE','en')\n",
    "\n",
    "            tabclaim.setTarget(tab)\n",
    "\n",
    "            item.addClaim(tabclaim, summary=u'Adding tabular-data claim')\n",
    "\n",
    "            print('Welldone. One claim created!')\n",
    "\n",
    "        except:\n",
    "            print('Oops! Check the property data type')\n",
    "\n",
    "\n",
    "add_claim('P17', 'item', 'Q35410')\n",
    "\n",
    "\n"
   ]
  },
  {
   "cell_type": "code",
   "execution_count": 3,
   "id": "2c2a8118",
   "metadata": {},
   "outputs": [
    {
     "name": "stdout",
     "output_type": "stream",
     "text": [
      "Just created a new qualifier!\n"
     ]
    }
   ],
   "source": [
    "#Adding a qualifier to existing claims/statements\n",
    "#TODOS\n",
    "#Still needs refinement\n",
    "\n",
    "import pywikibot\n",
    "\n",
    "site = pywikibot.Site(\"wikidata\", \"wikidata\")\n",
    "repo = site.data_repository()\n",
    "item = pywikibot.ItemPage(repo, \"Q4115189\")\n",
    "item_dict = item.get() #Fetch all page data, and cache it.\n",
    "     \n",
    "        \n",
    "for claim in item_dict['claims']['P17']: #Finds all statements (P131)\n",
    "    if 'P223' not in claim.qualifiers: #If not already exist\n",
    "\n",
    "        # Generate QUALIFIER FOR EXISTENCE STATEMENTS/CLAIMS\n",
    "        qualifier = pywikibot.Claim(repo, u'P223')\n",
    "        qualifier.setTarget('target')\n",
    "\n",
    "        claim.addQualifier(qualifier, summary=u'Adding a qualifier.') #Adding qualifier to all statements (P131)\n",
    "        print('Just created a new qualifier!')\n",
    "    else:\n",
    "        print('Try again')"
   ]
  },
  {
   "cell_type": "code",
   "execution_count": 13,
   "id": "bfd05b1e",
   "metadata": {},
   "outputs": [
    {
     "name": "stdout",
     "output_type": "stream",
     "text": [
      "New Claim!\n"
     ]
    },
    {
     "name": "stderr",
     "output_type": "stream",
     "text": [
      "Sleeping for 9.6 seconds, 2022-03-27 17:56:20\n"
     ]
    },
    {
     "name": "stdout",
     "output_type": "stream",
     "text": [
      "New Qualifier\n"
     ]
    }
   ],
   "source": [
    "# Connect to enwiki\n",
    "# and then to wikidata\n",
    "import pywikibot\n",
    "\"\"\"\n",
    "Adding a qualifier to newly-created claim/statement\n",
    "\"\"\"\n",
    "site = pywikibot.Site(\"wikidata\", \"wikidata\")\n",
    "repo = site.data_repository()\n",
    "item = pywikibot.ItemPage(repo, \"Q4115189\")\n",
    "\n",
    "#CLAIM\n",
    "claim = pywikibot.Claim(repo, u'P58') #Adding located in the administrative territorial entity (P131)\n",
    "target = pywikibot.ItemPage(repo, u\"Q4546\") #Connecting P131 with Cambridge (Q350), who is a Q-id.\n",
    "claim.setTarget(target) #Set the target value in the local object.\n",
    "item.addClaim(claim, summary=u'Adding claim to Q210194') #Inserting value with summary to Q210194\n",
    "print('New Claim!')\n",
    "\n",
    "#QUALIFIER\n",
    "qualifier = pywikibot.Claim(repo, u'P131')\n",
    "target = pywikibot.ItemPage(repo, \"Q35409\")\n",
    "qualifier.setTarget(target)\n",
    "claim.addQualifier(qualifier, summary=u'Adding a qualifier.')\n",
    "print('New Qualifier!')\n"
   ]
  },
  {
   "cell_type": "code",
   "execution_count": 7,
   "id": "1a1457ba-834b-4e61-a6de-dbf709c86920",
   "metadata": {},
   "outputs": [
    {
     "name": "stdout",
     "output_type": "stream",
     "text": [
      "New Claim created!\n"
     ]
    },
    {
     "name": "stderr",
     "output_type": "stream",
     "text": [
      "Sleeping for 9.6 seconds, 2022-03-27 17:51:08\n"
     ]
    },
    {
     "name": "stdout",
     "output_type": "stream",
     "text": [
      "New sources created!\n"
     ]
    }
   ],
   "source": [
    "# -*- coding: utf-8  -*-\n",
    "import pywikibot\n",
    "from datetime import date\n",
    "\n",
    "\n",
    "#Adding sources to newly-created claim/statement\n",
    "\n",
    "\n",
    "site = pywikibot.Site(\"wikidata\", \"wikidata\")\n",
    "repo = site.data_repository()\n",
    "item = pywikibot.ItemPage(repo, \"Q4115189\")\n",
    "\n",
    "#CLAIM\n",
    "claim = pywikibot.Claim(repo, u'P131') #Adding located in the administrative territorial entity (P131)\n",
    "target = pywikibot.ItemPage(repo, u\"Q4546\") #Connecting P131 with Cambridge (Q350), that is a Q-id.\n",
    "claim.setTarget(target) #Set the target value in the local object.\n",
    "item.addClaim(claim, summary=u'Adding claim to Q210194') #Inserting value with summary to Q210194\n",
    "print('New Claim created!')\n",
    "\n",
    "#ADDS TWO REFERENCES\n",
    "#FIRST REF.\n",
    "\n",
    "ref = pywikibot.Claim(repo, u'P19') #stated in (P248)\n",
    "ref.setTarget(pywikibot.ItemPage(repo, 'Q648625')) #Connecting P248 with Google Knowledge Graph (Q648625), that is a Q-id. example stated in -> Google Knowledge Graph).\n",
    "\n",
    "\n",
    "#SECOND REF.\n",
    "today = date.today() #Date today\n",
    "retrieved = pywikibot.Claim(repo, u'P813') #retrieved (P813). Data type: Point in time\n",
    "dateCre = pywikibot.WbTime(year=int(today.strftime(\"%Y\")), month=int(today.strftime(\"%m\")), day=int(today.strftime(\"%d\"))) #retrieved -> %DATE TODAY%. Example retrieved -> 29.11.2020\n",
    "retrieved.setTarget(dateCre) #Inserting value\n",
    "\n",
    "claim.addSources([ref, retrieved], summary=u'Adding sources to administrative territorial entity (P131).')\n",
    "\n",
    "print('New sources created!')"
   ]
  },
  {
   "cell_type": "code",
   "execution_count": 11,
   "id": "e7a1de2c",
   "metadata": {},
   "outputs": [
    {
     "name": "stderr",
     "output_type": "stream",
     "text": [
      "WARNING: API warning (wbsetreference) of unknown format: {'messages': [{'name': 'wikibase-conflict-patched', 'parameters': [], 'html': {'*': 'Your edit was patched into the latest version.'}, 'type': 'warning'}]}\n",
      "Sleeping for 9.6 seconds, 2022-03-27 17:53:09\n"
     ]
    },
    {
     "name": "stdout",
     "output_type": "stream",
     "text": [
      "Source added!\n",
      "Source added!\n"
     ]
    }
   ],
   "source": [
    "import pywikibot\n",
    "from datetime import date\n",
    "\"\"\"\n",
    "Add source to existing statement/claim.\n",
    "\"\"\"\n",
    "\n",
    "site = pywikibot.Site(\"wikidata\", \"wikidata\")\n",
    "repo = site.data_repository()\n",
    "item = pywikibot.ItemPage(repo, \"Q4115189\") # https://test.wikidata.org/wiki/Q210194\n",
    "tem_dict = item.get()\n",
    "\n",
    "for claim in item_dict['claims']['P131']: # Loop through items\n",
    "    \n",
    "    #ADD A REF.\n",
    "    today = date.today() #Date today\n",
    "    retrieved = pywikibot.Claim(repo, u'P813', is_reference=True) # retrieved (P813 - wikidata) or date (P74 - test wd) . Data type: Point in time\n",
    "    dateCre = pywikibot.WbTime(year=int(today.strftime(\"%Y\")), month=int(today.strftime(\"%m\")), day=int(today.strftime(\"%d\"))) # retrieved -> %DATE TODAY%. Example retrieved -> 29.11.2020\n",
    "    retrieved.setTarget(dateCre) #Inserting value\n",
    "    \n",
    "    claim.addSource(retrieved, summary=u'Adding source.')\n",
    "    print('Source added!')"
   ]
  },
  {
   "cell_type": "code",
   "execution_count": null,
   "id": "be0c8f90",
   "metadata": {},
   "outputs": [],
   "source": [
    "#TODOS\n",
    "#A little refinement"
   ]
  }
 ],
 "metadata": {
  "kernelspec": {
   "display_name": "Python 3 (ipykernel)",
   "language": "python",
   "name": "python3"
  },
  "language_info": {
   "codemirror_mode": {
    "name": "ipython",
    "version": 3
   },
   "file_extension": ".py",
   "mimetype": "text/x-python",
   "name": "python",
   "nbconvert_exporter": "python",
   "pygments_lexer": "ipython3",
   "version": "3.8.10"
  }
 },
 "nbformat": 4,
 "nbformat_minor": 5
}
