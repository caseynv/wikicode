{
 "cells": [
  {
   "cell_type": "code",
   "execution_count": 4,
   "id": "289d93b9",
   "metadata": {},
   "outputs": [],
   "source": [
    "import pywikibot\n",
    "# Indent allows to indent multi-line strings\n",
    "\n",
    "# Connect to enwiki\n",
    "enwiki = pywikibot.Site('en', 'wikipedia')\n",
    "# and then to wikidata\n",
    "enwiki_repo = enwiki.data_repository()\n",
    "\n",
    "#login to your wikidata page\n",
    "pywikibot.Site().login()"
   ]
  },
  {
   "cell_type": "code",
   "execution_count": 2,
   "id": "ed478e4c",
   "metadata": {},
   "outputs": [
    {
     "name": "stderr",
     "output_type": "stream",
     "text": [
      "Sleeping for 9.6 seconds, 2022-03-27 17:47:22\n"
     ]
    },
    {
     "name": "stdout",
     "output_type": "stream",
     "text": [
      "Welldone. One claim created!\n"
     ]
    }
   ],
   "source": [
    "#add new claim to a new statement\n",
    "# TODOS\n",
    "# Still needs refinement\n",
    "\n",
    "\n",
    "import pywikibot\n",
    "# Indent allows to indent multi-line strings\n",
    "\n",
    "import datetime\n",
    "import math\n",
    "import re\n",
    "\n",
    "# Connect to enwiki\n",
    "# and then to wikidata\n",
    "\n",
    "pywikibot.Site().login()\n",
    "\"\"\"\n",
    "Adding a qualifier to newly-created claim/statement\n",
    "\"\"\"\n",
    "def add_claim(data_item, data, data_type, value):\n",
    "    site = pywikibot.Site(\"wikidata\", \"wikidata\")\n",
    "    repo = site.data_repository()\n",
    "    item = pywikibot.ItemPage(repo, data_item)\n",
    "\n",
    "\n",
    "    #CLAIM\n",
    "    if data_type == 'item':\n",
    "        try:\n",
    "             #Adding located in the administrative territorial entity (P131)\n",
    "            itemclaim = pywikibot.Claim(repo, data)\n",
    "            iclaim = pywikibot.ItemPage(site, value)\n",
    "            itemclaim.setTarget(iclaim) #Set the target value in the local object.\n",
    "\n",
    "            item.addClaim(itemclaim, summary=u'Adding claim to Q122042') #Inserting value with summary to Q210194\"\"\"\n",
    "            print('Welldone. One claim created!')\n",
    "        except:\n",
    "            print('Oops! Check the property data type')\n",
    "            \n",
    "    elif data_type == 'string':\n",
    "        try:\n",
    "             #Adding located in the administrative territorial entity (P131)\n",
    "            itemclaim = pywikibot.Claim(repo, data)\n",
    "            \n",
    "            itemclaim.setTarget(value) #Set the target value in the local object.\n",
    "\n",
    "            item.addClaim(itemclaim, summary=u'Adding claim to Q122042') #Inserting value with summary to Q210194\"\"\"\n",
    "            print('Welldone. One claim created!')\n",
    "        except:\n",
    "            print('Oops! Check the property data type')\n",
    "\n",
    "    elif data_type == 'mono-text':\n",
    "        #mtexdata = P1448, P1813\n",
    "        try:\n",
    "            monoclaim = pywikibot.Claim(repo, data)\n",
    "            targetmono = pywikibot.WbMonolingualText(text, 'en')\n",
    "            monoclaim.setTarget(targetmono)\n",
    "            item.addClaim(monoclaim, summary=u'Adding monolingualtext claim')\n",
    "            print('Welldone. One claim created!')\n",
    "        except:\n",
    "            print('Oops! Check the property data type')\n",
    "\n",
    "    elif data_type == 'point-in-time':\n",
    "        #timedata = P569, P570\n",
    "        try:\n",
    "            timeclaim = pywikibot.Claim(repo, data)\n",
    "            targetime = pywikibot.Wbtime(value,'en')\n",
    "            matchre = re.match(r'([-+]?\\d+)-(\\d+)-(\\d+)T(\\d+):(\\d+):(\\d+)Z', value)\n",
    "\n",
    "            if matchre is not None:\n",
    "                timeclaim.setTarget(targetime)\n",
    "                item.addClaim(timeclaim, summary=u'Adding a time claim')\n",
    "                print('Welldone. One claim created!')\n",
    "            else:\n",
    "                print('The the standard timestamp string')\n",
    "        except:\n",
    "            print('Oops! Check the property data type')\n",
    "\n",
    "    elif data_type == 'coordinates':\n",
    "        #coordata = P625, P1332\n",
    "        try:\n",
    "            coordclaim = pywikibot.Claim(repo, data)\n",
    "            coord = pywikibot.Coordinate(lat=52.25, lon=0.1225, precision=0.001, site=site)\n",
    "\n",
    "            coordclaim.setTarget(coord)\n",
    "\n",
    "            item.addClaim(coordclaim, summary=u'Adding coordinate claim')\n",
    "\n",
    "            print('Welldone. One claim created!')\n",
    "        except:\n",
    "            print('Oops! Check the property data type')\n",
    "\n",
    "\n",
    "    elif data_type == 'quantity':\n",
    "        #qdata = P1087, P1117\n",
    "        try:\n",
    "            quantclaim = pywikibot.Claim(repo, data)\n",
    "            quant = pywikibot.WbQuantity(amount, unit)\n",
    "\n",
    "            coordclaim.setTarget(quant)\n",
    "\n",
    "            item.addClaim(quantclaim, summary=u'Adding quantity claim')\n",
    "\n",
    "            print('Welldone. One claim created!')\n",
    "        except:\n",
    "            print('Oops! Check the property data type')\n",
    "\n",
    "    elif data_type == 'geo-shape':\n",
    "        #geo-data = P3896, P8485\n",
    "        try:\n",
    "            geoclaim = pywikibot.Claim(repo, data)\n",
    "            geo = pywikibot.WbGeoShape(value,'en')\n",
    "\n",
    "            geoclaim.setTarget(geo)\n",
    "\n",
    "            item.addClaim(geoclaim, summary=u'Adding geo-shape claim')\n",
    "\n",
    "            print('Welldone. One claim created!')\n",
    "        except:\n",
    "            print('Oops! Check the property data type')\n",
    "\n",
    "\n",
    "    elif data_type == 'commonsMedia':\n",
    "        #comdata = P14, P94\n",
    "        try:\n",
    "            comsite = pywikibot.Site('commons', 'commons')\n",
    "            com = pywikibot.FilePage(comsite, value)\n",
    "            comclaim.setTarget(com)\n",
    "            item.addClaim(comclaim, summary=u'Adding geo-shape claim')\n",
    "\n",
    "            print('Welldone. One claim created!')\n",
    "        except:\n",
    "            print('Oops! Check the property data type')\n",
    "\n",
    "    elif data_type == 'tab-data':\n",
    "        #tab-data = P4150, P8204\n",
    "\n",
    "        try:\n",
    "            tabclaim = pywikibot.Claim(repo, data)\n",
    "            tab = pywikibot.WbTabularData(value,'en')\n",
    "\n",
    "            tabclaim.setTarget(tab)\n",
    "\n",
    "            item.addClaim(tabclaim, summary=u'Adding tabular-data claim')\n",
    "\n",
    "            print('Welldone. One claim created!')\n",
    "        except:\n",
    "            print('Oops! Check the property data type')\n",
    "\n",
    "    elif data_type == 'property':\n",
    "        try:\n",
    "            propclaim = pywikibot.Claim(repo, data)\n",
    "            propp = pywikibot.PropertyPage(site, props)\n",
    "\n",
    "            tabclaim.setTarget(propp)\n",
    "\n",
    "            item.addClaim(propclaim, summary=u'Adding tabular-data claim')\n",
    "\n",
    "            print('Welldone. One claim created!')\n",
    "\n",
    "        except:\n",
    "            print('Oops! Check the property data type')\n",
    "\n",
    "\n",
    "    else:\n",
    "        try:\n",
    "            unclaim = pywikibot.Claim(repo, data)\n",
    "            tab = pywikibot.WbUnknown('TRUSTEE','en')\n",
    "\n",
    "            tabclaim.setTarget(tab)\n",
    "\n",
    "            item.addClaim(tabclaim, summary=u'Adding tabular-data claim')\n",
    "\n",
    "            print('Welldone. One claim created!')\n",
    "\n",
    "        except:\n",
    "            print('Oops! Check the property data type')\n",
    "\n",
    "\n",
    "add_claim(\"Q4115189\", 'P17', 'item', 'Q35410')\n",
    "\n",
    "\n"
   ]
  },
  {
   "cell_type": "code",
   "execution_count": 1,
   "id": "2c2a8118",
   "metadata": {},
   "outputs": [
    {
     "name": "stderr",
     "output_type": "stream",
     "text": [
      "Sleeping for 9.5 seconds, 2022-04-03 10:48:02\n"
     ]
    },
    {
     "name": "stdout",
     "output_type": "stream",
     "text": [
      "Just created a new qualifier!\n"
     ]
    }
   ],
   "source": [
    "#Adding a qualifier to existing claims/statements\n",
    "#TODOS\n",
    "#Still needs refinement\n",
    "\n",
    "import pywikibot\n",
    "\n",
    "def add_qualifier(p_item, props, target):\n",
    "    site = pywikibot.Site(\"wikidata\", \"wikidata\")\n",
    "    repo = site.data_repository()\n",
    "    item = pywikibot.ItemPage(repo, \"Q4115189\")\n",
    "    item_dict = item.get() #Fetch all page data, and cache it.\n",
    "     \n",
    "        \n",
    "    for claim in item_dict['claims'][props]: #Finds all statements (P17)\n",
    "        if p_item not in claim.qualifiers: #If not already exist\n",
    "\n",
    "        # Generate QUALIFIER FOR EXISTENCE STATEMENTS/CLAIMS\n",
    "            qualifier = pywikibot.Claim(repo, p_item)\n",
    "            qualifier.setTarget(target)\n",
    "\n",
    "            claim.addQualifier(qualifier, summary=u'Adding a qualifier.') #Adding qualifier to all statements (P131)\n",
    "            print('Just created a new qualifier!')\n",
    "        else:\n",
    "            print('Try again')\n",
    "add_qualifier('P223', 'P17', 'creative')"
   ]
  },
  {
   "cell_type": "code",
   "execution_count": 13,
   "id": "bfd05b1e",
   "metadata": {},
   "outputs": [
    {
     "name": "stdout",
     "output_type": "stream",
     "text": [
      "New Claim!\n"
     ]
    },
    {
     "name": "stderr",
     "output_type": "stream",
     "text": [
      "Sleeping for 9.6 seconds, 2022-03-27 17:56:20\n"
     ]
    },
    {
     "name": "stdout",
     "output_type": "stream",
     "text": [
      "New Qualifier\n"
     ]
    }
   ],
   "source": [
    "# Connect to enwiki\n",
    "# and then to wikidata\n",
    "import pywikibot\n",
    "\"\"\"\n",
    "Adding a qualifier to newly-created claim/statement\n",
    "\"\"\"\n",
    "def add_qualifer_and_claim(new_claim, prop, value, prop_value, item):\n",
    "    site = pywikibot.Site(\"wikidata\", \"wikidata\")\n",
    "    repo = site.data_repository()\n",
    "    item = pywikibot.ItemPage(repo, new_claim)\n",
    "\n",
    "#CLAIM\n",
    "    claim = pywikibot.Claim(repo, prop) #Adding located in the  entity (P58)\n",
    "    target = pywikibot.ItemPage(repo, value) #Connecting P131 with Cambridge (Q350), who is a Q-id.\n",
    "    claim.setTarget(target) #Set the target value in the local object.\n",
    "    item.addClaim(claim, summary=u'Adding claim to Q210194') #Inserting value with summary to Q210194\n",
    "    print('New Claim!')\n",
    "\n",
    "#QUALIFIER\n",
    "    qualifier = pywikibot.Claim(repo, prop_value)\n",
    "    target = pywikibot.ItemPage(repo, item)\n",
    "    qualifier.setTarget(target)\n",
    "    claim.addQualifier(qualifier, summary=u'Adding a qualifier.')\n",
    "    print('New Qualifier!')\n",
    "\n",
    "add_qualifer_and_claim(\"Q4115189\", 'P58', \"Q4546\", 'P131', \"Q35409\")"
   ]
  },
  {
   "cell_type": "code",
   "execution_count": 6,
   "id": "1a1457ba-834b-4e61-a6de-dbf709c86920",
   "metadata": {},
   "outputs": [
    {
     "name": "stdout",
     "output_type": "stream",
     "text": [
      "New Claim created!\n"
     ]
    },
    {
     "name": "stderr",
     "output_type": "stream",
     "text": [
      "Sleeping for 9.6 seconds, 2022-04-03 11:07:23\n"
     ]
    },
    {
     "name": "stdout",
     "output_type": "stream",
     "text": [
      "New sources created!\n"
     ]
    }
   ],
   "source": [
    "# -*- coding: utf-8  -*-\n",
    "import pywikibot\n",
    "from datetime import date\n",
    "\n",
    "\n",
    "#Adding sources to newly-created claim/statement\n",
    "\n",
    "def add_sources(data_item, prop, prop_value, ref1, ref1_value):\n",
    "    site = pywikibot.Site(\"wikidata\", \"wikidata\")\n",
    "    repo = site.data_repository()\n",
    "    item = pywikibot.ItemPage(repo, data_item)\n",
    "\n",
    "    #CLAIM\n",
    "    claim = pywikibot.Claim(repo, prop) #Adding located in the administrative territorial entity (P131)\n",
    "    target = pywikibot.ItemPage(repo, prop_value) #Connecting P131 with Cambridge (Q350), that is a Q-id.\n",
    "    claim.setTarget(target) #Set the target value in the local object.\n",
    "    item.addClaim(claim, summary=u'Adding claim to Q210194') #Inserting value with summary to Q210194\n",
    "    print('New Claim created!')\n",
    "\n",
    "    #ADDS TWO REFERENCES\n",
    "    #FIRST REF.\n",
    "\n",
    "    ref = pywikibot.Claim(repo, ref1) #stated in (P248)\n",
    "    ref.setTarget(pywikibot.ItemPage(repo, ref1_value)) #Connecting P248 with Google Knowledge Graph (Q648625), that is a Q-id. example stated in -> Google Knowledge Graph).\n",
    "\n",
    "\n",
    "    #SECOND REF.\n",
    "    today = date.today() #Date today\n",
    "    retrieved = pywikibot.Claim(repo, u'P813') #retrieved (P813). Data type: Point in time\n",
    "    dateCre = pywikibot.WbTime(year=int(today.strftime(\"%Y\")), month=int(today.strftime(\"%m\")), day=int(today.strftime(\"%d\"))) #retrieved -> %DATE TODAY%. Example retrieved -> 29.11.2020\n",
    "    retrieved.setTarget(dateCre) #Inserting value\n",
    "\n",
    "    claim.addSources([ref, retrieved], summary=u'Adding sources to administrative territorial entity (P131).')\n",
    "\n",
    "    print('New sources created!')\n",
    "    \n",
    "add_sources(\"Q4115189\", 'P131', \"Q4546\", 'P19', 'Q648625')\n",
    "            "
   ]
  },
  {
   "cell_type": "code",
   "execution_count": 90,
   "id": "3c43cb36-8467-4516-96e9-67b9f38970b6",
   "metadata": {},
   "outputs": [
    {
     "name": "stdout",
     "output_type": "stream",
     "text": [
      "Source added!\n"
     ]
    },
    {
     "name": "stderr",
     "output_type": "stream",
     "text": [
      "Sleeping for 9.6 seconds, 2022-04-03 19:37:27\n"
     ]
    },
    {
     "name": "stdout",
     "output_type": "stream",
     "text": [
      "Source added!\n"
     ]
    }
   ],
   "source": [
    "import pywikibot\n",
    "from datetime import date\n",
    "\"\"\"\n",
    "Add source to all existing statement/claim.\n",
    "\"\"\"\n",
    "def add_source(data_item, prop):\n",
    "    site = pywikibot.Site(\"wikidata\", \"wikidata\")\n",
    "    repo = site.data_repository()\n",
    "    item = pywikibot.ItemPage(repo, data_item) \n",
    "    item_dict = item.get()\n",
    "\n",
    "    for claim in item_dict['claims'][prop]: # Loop through items\n",
    "        \n",
    "        #ADD A REF.\n",
    "        today = date.today() #Date today\n",
    "        retrieved = pywikibot.Claim(repo, u'P813', is_reference=True) # retrieved (P813 - wikidata) or date (P74 - test wd) . Data type: Point in time\n",
    "        dateCre = pywikibot.WbTime(year=int(today.strftime(\"%Y\")), month=int(today.strftime(\"%m\")), day=int(today.strftime(\"%d\"))) # retrieved -> %DATE TODAY%. Example retrieved -> 29.11.2020\n",
    "        retrieved.setTarget(dateCre) #Inserting value\n",
    "    \n",
    "        claim.addSource(retrieved, summary=u'Adding source.')\n",
    "        print('Source added!')\n",
    "    \n",
    "add_source(\"Q4115189\", 'P576')"
   ]
  },
  {
   "cell_type": "code",
   "execution_count": 96,
   "id": "b5cb91ba-58d0-45fd-bdd0-f6db667e06e3",
   "metadata": {},
   "outputs": [
    {
     "name": "stdout",
     "output_type": "stream",
     "text": [
      "Source added!\n"
     ]
    }
   ],
   "source": [
    "import pywikibot\n",
    "from datetime import date\n",
    "\"\"\"\n",
    "Add source to a particular existing statement/claim.\n",
    "\"\"\"\n",
    "def add_source(data_item, prop):\n",
    "    site = pywikibot.Site(\"wikidata\", \"wikidata\")\n",
    "    repo = site.data_repository()\n",
    "    item = pywikibot.ItemPage(repo, data_item) \n",
    "    item_dict = item.get()\n",
    "\n",
    "    claim = item_dict['claims'][prop] # Loop through items\n",
    "        \n",
    "        #ADD A REF.\n",
    "    today = date.today() #Date today\n",
    "    retrieved = pywikibot.Claim(repo, u'P813', is_reference=True) # retrieved (P813 - wikidata) or date (P74 - test wd) . Data type: Point in time\n",
    "    dateCre = pywikibot.WbTime(year=2020, month=12, day=25) # retrieved -> %DATE TODAY%. Example retrieved -> 29.11.2020\n",
    "    retrieved.setTarget(dateCre) #Inserting value\n",
    "    \n",
    "    claim[1].addSource(retrieved, summary=u'Adding source.')\n",
    "    print('Source added!')\n",
    "    \n",
    "add_source(\"Q4115189\", 'P576')"
   ]
  },
  {
   "cell_type": "code",
   "execution_count": 101,
   "id": "451dd02b-109d-4d1b-8099-40d23ef9b235",
   "metadata": {},
   "outputs": [
    {
     "name": "stdout",
     "output_type": "stream",
     "text": [
      "Q13406268\n",
      "Q15397819\n"
     ]
    }
   ],
   "source": [
    "import pywikibot\n",
    "from datetime import date\n",
    "\"\"\"\n",
    "Add source to a particular existing statement/claim.\n",
    "\"\"\"\n",
    "def add_source(data_item, prop):\n",
    "    site = pywikibot.Site(\"wikidata\", \"wikidata\")\n",
    "    repo = site.data_repository()\n",
    "    item = pywikibot.ItemPage(repo, data_item) \n",
    "    item_dict = item.get()\n",
    "\n",
    "    for claim in item_dict['claims'][prop]: # Loop through items\n",
    "    \n",
    "        if claim.getTarget().title() == 'Q15397819':\n",
    "            today = date.today() #Date today\n",
    "            retrieved = pywikibot.Claim(repo, u'P813', is_reference=True) # retrieved (P813 - wikidata) or date (P74 - test wd) . Data type: Point in time\n",
    "            dateCre = pywikibot.WbTime(year=2020, month=12, day=25) # retrieved -> %DATE TODAY%. Example retrieved -> 29.11.2020\n",
    "            retrieved.setTarget(dateCre) #Inserting value\n",
    "    \n",
    "            claim[1].addSource(retrieved, summary=u'Adding source.')\n",
    "    print('Source added!')\n",
    "    \n",
    "add_source(\"Q4115189\", 'P460')"
   ]
  },
  {
   "cell_type": "code",
   "execution_count": null,
   "id": "09291121-2723-4896-98ee-c9ad65203e8d",
   "metadata": {},
   "outputs": [],
   "source": []
  }
 ],
 "metadata": {
  "kernelspec": {
   "display_name": "Python 3 (ipykernel)",
   "language": "python",
   "name": "python3"
  },
  "language_info": {
   "codemirror_mode": {
    "name": "ipython",
    "version": 3
   },
   "file_extension": ".py",
   "mimetype": "text/x-python",
   "name": "python",
   "nbconvert_exporter": "python",
   "pygments_lexer": "ipython3",
   "version": "3.8.10"
  }
 },
 "nbformat": 4,
 "nbformat_minor": 5
}
